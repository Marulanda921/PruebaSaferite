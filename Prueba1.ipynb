{
 "cells": [
  {
   "cell_type": "code",
   "execution_count": 17,
   "metadata": {},
   "outputs": [
    {
     "name": "stdout",
     "output_type": "stream",
     "text": [
      "nif;nombre;email;teléfono;descuento\n",
      "01234567L;Luis González;luisgonzalez@mail.com;656343576;12.5\n",
      "71476342J;Macarena Ramírez;macarena@mail.com;692839321;8\n",
      "63823376M;Juan José Martínez;juanjo@mail.com;664888233;5.2\n",
      "98376547F;Carmen Sánchez;carmen@mail.com;667677855;15.7\n",
      "\n",
      "\n",
      "\n",
      "\n",
      "\n",
      "\n",
      "\n",
      "\n",
      "\n",
      "\n",
      "{'01234567L': {'nombre': 'Luis González', 'email': 'luisgonzalez@mail.com', 'teléfono': 656343576, 'descuento': 12.5}, '71476342J': {'nombre': 'Macarena Ramírez', 'email': 'macarena@mail.com', 'teléfono': 692839321, 'descuento': 8.0}, '63823376M': {'nombre': 'Juan José Martínez', 'email': 'juanjo@mail.com', 'teléfono': 664888233, 'descuento': 5.2}, '98376547F': {'nombre': 'Carmen Sánchez', 'email': 'carmen@mail.com', 'teléfono': 667677855, 'descuento': 15.7}}\n"
     ]
    }
   ],
   "source": [
    "import pandas as pd\n",
    "from io import StringIO\n",
    "\n",
    "\n",
    "TextoDelUsuario = 'nif;nombre;email;teléfono;descuento\\n01234567L;Lu*is González;luisgonzalez@mail.com;656343576;12.5\\n71476342J;Macar*ena Ramírez;mac*arena@mail.com;692839321;8\\n63823376M;Jua*n José Martínez;juan*jo@mail.com;664888233;5.2\\n98376547F;Car*men Sánchez;carmen@m*ail.com;667677855;15.7'\n",
    "\n",
    "textoFinal = TextoDelUsuario.replace(\"*\",\"\")\n",
    "print(textoFinal)\n",
    "print(\"\\n\")\n",
    "\n",
    "datosDeEntrada = StringIO(textoFinal)\n",
    "dataframe = pd.read_csv(datosDeEntrada, sep=';')\n",
    "datos = {}\n",
    "for index, fila in dataframe.iterrows():\n",
    "    nif = fila['nif']\n",
    "    print(\"\\n\")\n",
    "    datos[nif] = {\n",
    "        'nombre': fila['nombre'],\n",
    "        'email': fila['email'],\n",
    "        'teléfono': fila['teléfono'],\n",
    "        'descuento': fila['descuento']\n",
    "    }\n",
    "print(datos)"
   ]
  }
 ],
 "metadata": {
  "kernelspec": {
   "display_name": "Python 3",
   "language": "python",
   "name": "python3"
  },
  "language_info": {
   "codemirror_mode": {
    "name": "ipython",
    "version": 3
   },
   "file_extension": ".py",
   "mimetype": "text/x-python",
   "name": "python",
   "nbconvert_exporter": "python",
   "pygments_lexer": "ipython3",
   "version": "3.9.6"
  }
 },
 "nbformat": 4,
 "nbformat_minor": 2
}
